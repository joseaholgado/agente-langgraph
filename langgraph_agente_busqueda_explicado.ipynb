{
 "cells": [
  {
   "cell_type": "markdown",
   "id": "ae7da91f",
   "metadata": {},
   "source": [
    "# Agente de Búsqueda Inteligente\n",
    "Sistema que combina documentos locales en pdf, json y búsqueda web para respuestas precisas"
   ]
  },
  {
   "cell_type": "markdown",
   "id": "79bf858b",
   "metadata": {},
   "source": [
    "## 1. Configuración Inicial"
   ]
  },
  {
   "cell_type": "markdown",
   "id": "2d154072",
   "metadata": {},
   "source": [
    "- Carga claves API desde `.env`\n",
    "- Inicializa el modelo de lenguaje GPT-3.5"
   ]
  },
  {
   "cell_type": "code",
   "execution_count": 1,
   "id": "c511a34d",
   "metadata": {},
   "outputs": [],
   "source": [
    "# Celda 1: Configuración inicial\n",
    "from dotenv import load_dotenv\n",
    "import os\n",
    "from langchain_openai import ChatOpenAI\n",
    "from typing import TypedDict\n",
    "\n",
    "load_dotenv()\n",
    "\n",
    "api_key = os.getenv(\"API_KEY\")\n",
    "api_key_tavily = os.getenv(\"TAVILY_API_KEY\")\n",
    "model = ChatOpenAI(model=\"gpt-3.5-turbo\", api_key=api_key, temperature=0, verbose=True)"
   ]
  },
  {
   "cell_type": "markdown",
   "id": "0419dbb9",
   "metadata": {},
   "source": [
    "## 2. Motor de Búsqueda en PDFs"
   ]
  },
  {
   "cell_type": "markdown",
   "id": "4bf87240",
   "metadata": {},
   "source": [
    "- Carga múltiples PDFs\n",
    "- Usa embeddings para búsqueda semántica\n",
    "- Provee respuestas con refencias a páginas\n",
    "- Herramienta de PDF"
   ]
  },
  {
   "cell_type": "code",
   "execution_count": 10,
   "id": "bf50910e",
   "metadata": {},
   "outputs": [
    {
     "ename": "FileNotFoundError",
     "evalue": "Archivo no encontrado: Investigación de WindSurf.pdf",
     "output_type": "error",
     "traceback": [
      "\u001b[31m---------------------------------------------------------------------------\u001b[39m",
      "\u001b[31mFileNotFoundError\u001b[39m                         Traceback (most recent call last)",
      "\u001b[36mCell\u001b[39m\u001b[36m \u001b[39m\u001b[32mIn[10]\u001b[39m\u001b[32m, line 37\u001b[39m\n\u001b[32m     35\u001b[39m \u001b[38;5;28;01mfrom\u001b[39;00m\u001b[38;5;250m \u001b[39m\u001b[34;01mlangchain\u001b[39;00m\u001b[34;01m.\u001b[39;00m\u001b[34;01mtools\u001b[39;00m\u001b[38;5;250m \u001b[39m\u001b[38;5;28;01mimport\u001b[39;00m Tool\n\u001b[32m     36\u001b[39m rutas_pdfs=[\u001b[33m\"\u001b[39m\u001b[33mInvestigación de WindSurf.pdf\u001b[39m\u001b[33m\"\u001b[39m,\u001b[33m\"\u001b[39m\u001b[33mnke-10k-2023.pdf\u001b[39m\u001b[33m\"\u001b[39m]\n\u001b[32m---> \u001b[39m\u001b[32m37\u001b[39m buscador_pdf=\u001b[43mBusquedaPDF\u001b[49m\u001b[43m(\u001b[49m\u001b[43mrutas_pdfs\u001b[49m\u001b[43m)\u001b[49m\n\u001b[32m     38\u001b[39m tool_pdf=Tool(\n\u001b[32m     39\u001b[39m     name=\u001b[33m\"\u001b[39m\u001b[33mbusqueda_pdf\u001b[39m\u001b[33m\"\u001b[39m,\n\u001b[32m     40\u001b[39m     func=buscador_pdf.run,\n\u001b[32m     41\u001b[39m     description=\u001b[33m\"\u001b[39m\u001b[33mBusca en documentos PDF\u001b[39m\u001b[33m\"\u001b[39m,\n\u001b[32m     42\u001b[39m     metadata={\u001b[33m\"\u001b[39m\u001b[33mcategory\u001b[39m\u001b[33m\"\u001b[39m:\u001b[33m\"\u001b[39m\u001b[33mDocumentos locales\u001b[39m\u001b[33m\"\u001b[39m,\u001b[33m\"\u001b[39m\u001b[33mfile_types\u001b[39m\u001b[33m\"\u001b[39m:[\u001b[33m\"\u001b[39m\u001b[33m.pdf\u001b[39m\u001b[33m\"\u001b[39m]}\n\u001b[32m     43\u001b[39m )\n",
      "\u001b[36mCell\u001b[39m\u001b[36m \u001b[39m\u001b[32mIn[10]\u001b[39m\u001b[32m, line 12\u001b[39m, in \u001b[36mBusquedaPDF.__init__\u001b[39m\u001b[34m(self, pdf_paths)\u001b[39m\n\u001b[32m     10\u001b[39m \u001b[38;5;28;01mfor\u001b[39;00m path \u001b[38;5;129;01min\u001b[39;00m pdf_paths:\n\u001b[32m     11\u001b[39m     \u001b[38;5;28;01mif\u001b[39;00m \u001b[38;5;129;01mnot\u001b[39;00m os.path.exists(path):\n\u001b[32m---> \u001b[39m\u001b[32m12\u001b[39m         \u001b[38;5;28;01mraise\u001b[39;00m \u001b[38;5;167;01mFileNotFoundError\u001b[39;00m(\u001b[33mf\u001b[39m\u001b[33m\"\u001b[39m\u001b[33mArchivo no encontrado: \u001b[39m\u001b[38;5;132;01m{\u001b[39;00mpath\u001b[38;5;132;01m}\u001b[39;00m\u001b[33m\"\u001b[39m)\n\u001b[32m     13\u001b[39m     loader = PyMuPDFLoader(path)\n\u001b[32m     14\u001b[39m     docs.extend(loader.load())\n",
      "\u001b[31mFileNotFoundError\u001b[39m: Archivo no encontrado: Investigación de WindSurf.pdf"
     ]
    }
   ],
   "source": [
    "from langchain.document_loaders import PyMuPDFLoader\n",
    "from langchain.text_splitter import RecursiveCharacterTextSplitter\n",
    "from langchain.embeddings import HuggingFaceEmbeddings\n",
    "from langchain.vectorstores import FAISS\n",
    "from langchain.chains import RetrievalQA\n",
    "\n",
    "class BusquedaPDF:\n",
    "    def __init__(self, pdf_paths: list[str]):\n",
    "        docs = []\n",
    "        for path in pdf_paths:\n",
    "            if not os.path.exists(path):\n",
    "                raise FileNotFoundError(f\"Archivo no encontrado: {path}\")\n",
    "            loader = PyMuPDFLoader(path)\n",
    "            docs.extend(loader.load())\n",
    "        splitter = RecursiveCharacterTextSplitter(chunk_size=500, chunk_overlap=50)\n",
    "        frag = splitter.split_documents(docs)\n",
    "        embeddings = HuggingFaceEmbeddings(model_name=\"sentence-transformers/all-MiniLM-L6-v2\")\n",
    "        store = FAISS.from_documents(frag, embeddings)\n",
    "        self.qa = RetrievalQA.from_chain_type(\n",
    "            llm=ChatOpenAI(model=\"gpt-3.5-turbo\", api_key=api_key),\n",
    "            chain_type=\"stuff\",\n",
    "            retriever=store.as_retriever(search_kwargs={\"k\":3}),\n",
    "            return_source_documents=True\n",
    "        )\n",
    "    def run(self, query: str) -> str:\n",
    "        res = self.qa.invoke({\"query\":query})\n",
    "        answer = res.get(\"result\",\"\")\n",
    "        docs = res.get(\"source_documents\",[])\n",
    "        if docs:\n",
    "            fuentes = \"\\n\".join(f\"- {d.metadata.get('source','pdf')}\" for d in docs)\n",
    "            return f\"{answer}\\n\\nFuentes:\\n{fuentes}\"\n",
    "        return answer\n",
    "\n",
    "# Instanciar BusquedaPDF y herramienta\n",
    "from langchain.tools import Tool\n",
    "rutas_pdfs=[\"Investigación de WindSurf.pdf\",\"nke-10k-2023.pdf\"]\n",
    "buscador_pdf=BusquedaPDF(rutas_pdfs)\n",
    "tool_pdf=Tool(\n",
    "    name=\"busqueda_pdf\",\n",
    "    func=buscador_pdf.run,\n",
    "    description=\"Busca en documentos PDF\",\n",
    "    metadata={\"category\":\"Documentos locales\",\"file_types\":[\".pdf\"]}\n",
    ")"
   ]
  },
  {
   "cell_type": "markdown",
   "id": "6b0c3696",
   "metadata": {},
   "source": [
    "## 3. Motor de Búsqueda en JSONs"
   ]
  },
  {
   "cell_type": "markdown",
   "id": "b8b8c201",
   "metadata": {},
   "source": [
    "- Crea clase de busqueda JSONs\n",
    "- Crea el prompt como guia para el agente\n",
    "- Analiza contexto de la pregunta\n",
    "- Usa ejemplos para mejor precisión\n",
    "\n",
    "- Crea la herramienta JSON"
   ]
  },
  {
   "cell_type": "code",
   "execution_count": 3,
   "id": "f9b9262b",
   "metadata": {},
   "outputs": [],
   "source": [
    "import json\n",
    "from langchain.schema import SystemMessage, HumanMessage\n",
    "\n",
    "class BusquedaJSON:\n",
    "    def __init__(self, json_paths: list[str]):\n",
    "        # Cargamos el AST completo\n",
    "        combined = {}\n",
    "        for path in json_paths:\n",
    "            if not os.path.exists(path):\n",
    "                raise FileNotFoundError(f\"Archivo no encontrado: {path}\")\n",
    "            with open(path, encoding=\"utf-8\") as f:\n",
    "                data = json.load(f)\n",
    "            combined.update(data)\n",
    "        self.ast = combined\n",
    "\n",
    "    def run(self, query: str) -> str:\n",
    "        # Construimos prompt para el LLM que contiene el AST\n",
    "        ast_str = json.dumps(self.ast, indent=2, ensure_ascii=False)\n",
    "        prompt = [\n",
    "            SystemMessage(content=\"Eres un asistente experto en análisis de AST de código Python.\"),\n",
    "            HumanMessage(content=(\n",
    "                f\"Se te proporciona el siguiente AST en formato JSON de un archivo con definiciones de funciones, \"\n",
    "                f\"variables, comentarios y clases:\\n{ast_str}\\n\\n\"\n",
    "                f\"Indica primero la lista de funciones que contiene el AST (nombre y parámetros), \"\n",
    "                f\"y luego explica brevemente el propósito de cada función.\\n\"\n",
    "                f\"Consulta del usuario: {query}\"\n",
    "            ))\n",
    "        ]\n",
    "        respuesta = model(prompt).content\n",
    "        return respuesta\n",
    "\n",
    "# Instanciar BusquedaJSON y herramienta\n",
    "rutas_json=[\"ast_summary.json\"]\n",
    "buscador_json=BusquedaJSON(rutas_json)\n",
    "tool_json=Tool(\n",
    "    name=\"busqueda_json\",\n",
    "    func=buscador_json.run,\n",
    "    description=\"Analiza un AST JSON y explica sus funciones\",\n",
    "    metadata={\"category\":\"Documentos locales\",\"file_types\":[\".json\"]}\n",
    ")"
   ]
  },
  {
   "cell_type": "markdown",
   "id": "d0c6be45",
   "metadata": {},
   "source": [
    "## 4. Herramienta de Búsqueda Web"
   ]
  },
  {
   "cell_type": "markdown",
   "id": "5e167def",
   "metadata": {},
   "source": [
    "- Acceso a información actualizada\n",
    "- Resultados de alta relevancia\n",
    "- Filtrado de contenido irrelevante"
   ]
  },
  {
   "cell_type": "code",
   "execution_count": 4,
   "id": "1a0a900a",
   "metadata": {},
   "outputs": [],
   "source": [
    "from langchain_tavily import TavilySearch\n",
    "tavily=TavilySearch(max_results=5,topic=\"general\")\n",
    "def busqueda_internet(q:str)->str:\n",
    "    res=tavily.invoke({\"query\":q}).get(\"results\",[])\n",
    "    return \"\\n\\n\".join(r.get(\"content\",\"\") for r in res[:3]) or \"Sin resultados\"\n",
    "\n",
    "tool_web=Tool(\n",
    "    name=\"busqueda_internet\",\n",
    "    func=busqueda_internet,\n",
    "    description=\"Busca en internet\",\n",
    "    metadata={\"category\":\"Búsqueda en vivo\",\"sources\":[\"Tavily\"]}\n",
    ")"
   ]
  },
  {
   "cell_type": "markdown",
   "id": "2ddcab04",
   "metadata": {},
   "source": [
    "## 5. Núcleo de Decisión"
   ]
  },
  {
   "cell_type": "markdown",
   "id": "e80b7e88",
   "metadata": {},
   "source": [
    "- Crea los nodo del Grafo\n",
    "- Previene errores de routing"
   ]
  },
  {
   "cell_type": "code",
   "execution_count": 5,
   "id": "be959777",
   "metadata": {},
   "outputs": [],
   "source": [
    "from langgraph.graph import StateGraph\n",
    "from langchain.schema import SystemMessage as SysMsg, HumanMessage as HumMsg\n",
    "\n",
    "class AgentState(TypedDict): input:str; tool_used:str; output:str; next_step:str\n",
    "\n",
    "def decide_tool(state:AgentState)->AgentState:\n",
    "    text=state[\"input\"].lower()\n",
    "    if any(k in text for k in [\"windsurf\",\"pdf\"]): return {\"next_step\":\"usar_pdf\"}\n",
    "    if any(k in text for k in [\"json\",\"ast\",\"funcion\",\"variable\",\"comentario\",\"clase\"]): return {\"next_step\":\"usar_json\"}\n",
    "    return {\"next_step\":\"usar_web\"}\n",
    "\n",
    "def usar_pdf(state:AgentState)->AgentState:\n",
    "    out=buscador_pdf.run(state[\"input\"])\n",
    "    return {\"input\":state[\"input\"],\"tool_used\":\"busqueda_pdf\",\"output\":out}\n",
    "\n",
    "def usar_json(state:AgentState)->AgentState:\n",
    "    out=buscador_json.run(state[\"input\"])\n",
    "    return {\"input\":state[\"input\"],\"tool_used\":\"busqueda_json\",\"output\":out}\n",
    "\n",
    "def usar_web(state:AgentState)->AgentState:\n",
    "    out=busqueda_internet(state[\"input\"])\n",
    "    return {\"input\":state[\"input\"],\"tool_used\":\"busqueda_internet\",\"output\":out}\n",
    "\n",
    "# Montar y compilar grafo\n",
    "graph=StateGraph(AgentState)\n",
    "graph.add_node(\"decision\",decide_tool)\n",
    "graph.add_node(\"usar_pdf\",usar_pdf)\n",
    "graph.add_node(\"usar_json\",usar_json)\n",
    "graph.add_node(\"usar_web\",usar_web)\n",
    "graph.add_node(\"fin\",lambda s:s)\n",
    "\n",
    "graph.set_entry_point(\"decision\")\n",
    "graph.add_conditional_edges(\"decision\",lambda s:s[\"next_step\"],{\"usar_pdf\":\"usar_pdf\",\"usar_json\":\"usar_json\",\"usar_web\":\"usar_web\",\"fin\":\"fin\"})\n",
    "for n in [\"usar_pdf\",\"usar_json\",\"usar_web\"]: graph.add_edge(n,\"fin\")\n",
    "agent_executor=graph.compile()\n"
   ]
  },
  {
   "cell_type": "markdown",
   "id": "b64f44ac",
   "metadata": {},
   "source": [
    "## 5. Interfaz de Chatbot"
   ]
  },
  {
   "cell_type": "markdown",
   "id": "152f019b",
   "metadata": {},
   "source": [
    "- Loop conversacional continuo\n",
    "- Soporta comandos de salida\n",
    "- Muestra metadata de ejecución"
   ]
  },
  {
   "cell_type": "code",
   "execution_count": 6,
   "id": "1bdf4233",
   "metadata": {},
   "outputs": [
    {
     "name": "stdout",
     "output_type": "stream",
     "text": [
      "Chatbot de LangGraph - escriba 'salir' para terminar.\n",
      "\n",
      "Respuesta: Sin resultados\n",
      "Herramienta usada: busqueda_internet\n",
      "----------------------------------------\n"
     ]
    },
    {
     "name": "stderr",
     "output_type": "stream",
     "text": [
      "C:\\Users\\6003465\\AppData\\Local\\Temp\\ipykernel_22232\\1204031144.py:29: LangChainDeprecationWarning: The method `BaseChatModel.__call__` was deprecated in langchain-core 0.1.7 and will be removed in 1.0. Use :meth:`~invoke` instead.\n",
      "  respuesta = model(prompt).content\n"
     ]
    },
    {
     "name": "stdout",
     "output_type": "stream",
     "text": [
      "\n",
      "Respuesta: La lista de funciones que contiene el AST es la siguiente:\n",
      "\n",
      "1. Función \"saludar\":\n",
      "   - Nombre: \"saludar\"\n",
      "   - Parámetros: \"(nombre)\"\n",
      "   - Docstring: null\n",
      "   - Llamadas a otras funciones: [\"print\"]\n",
      "\n",
      "Propósito de cada función:\n",
      "1. Función \"saludar\": Esta función recibe un parámetro \"nombre\" y su propósito es imprimir un saludo utilizando el valor del parámetro \"nombre\" mediante la función \"print\".\n",
      "\n",
      "En cuanto a la función \"saludar\" del JSON proporcionado, puedo decirte que:\n",
      "- La función \"saludar\" tiene como nombre \"saludar\".\n",
      "- La función \"saludar\" recibe un parámetro llamado \"nombre\".\n",
      "- La función \"saludar\" no tiene un docstring asociado.\n",
      "- La función \"saludar\" realiza una llamada a la función \"print\".\n",
      "Herramienta usada: busqueda_json\n",
      "----------------------------------------\n",
      "\n",
      "Respuesta: Thor (en nórdico antiguo: Þórr) es el dios nórdico del trueno, el cielo y la agricultura. Es hijo de Odín, jefe de los dioses, y de la consorte de Odín, Jord (Tierra), y esposo de la diosa de la fertilidad Sif, madre de su hijo Modi y de su hija Thrud; su otro hijo, Magni, puede ser fruto de una unión con la giganta Jarnsaxa.\n",
      "\n",
      "Thor es el más noble de ellos [los Æsir], es llamado Thor de los Æsir, u Öku-Thor; es el más fuerte de los dioses y los hombres. ... Thor quien había sido enemigo de su abuelo y le había dado muerte, se encarga hábilmente de responder con maldiciones que neutralizan todas las bendiciones que le otorga Odín. Entonces Thor habló: 'La\n",
      "\n",
      "Thor era uno de los dioses más importantes de la mitología nórdica y, seguramente, el más popular. Era muy venerado ya que, a diferencia de otros dioses, tenía gran simpatía por los humanos a los que protegía y ayudaba cuando estaban en problemas. Este dios se destacaba más por su fuerza sobrenatural que por su astucia ya que era un poco torpe y no muy inteligente; además, solía\n",
      "Herramienta usada: busqueda_internet\n",
      "----------------------------------------\n",
      "\n",
      "Respuesta: Sin resultados\n",
      "Herramienta usada: busqueda_internet\n",
      "----------------------------------------\n",
      "\n",
      "Respuesta: Thor es un superhéroe ficticio que aparece en los cómics estadounidenses publicados por Marvel Comics. Es el dios del trueno asgardiano basado en la deidad homónima, del pueblo ficticio inspirado en el mundo de Asgard de la mitología nórdica, de donde toman inspiración muchos aspectos del personaje.\n",
      "\n",
      "La batalla de Thor contra los gigantes, de Mårten Eskil Winge, 1872. Thor (del nórdico antiguo Þórr, pronunciado / θoːrː / en islandés antiguo y / θo͡u̯r̥ / en islandés moderno) es el dios del trueno y fuerza en la mitología nórdica y germánica. Su papel es complejo ya que tenía influencia en áreas muy diferentes, tales como el clima, las cosechas, la protección, la\n",
      "\n",
      "Thor Odinson es el Dios del Trueno, anterior Rey de Asgard y Nuevo Asgard, un miembro fundador de los Vengadores y antiguo miembro de los Guardianes de la Galaxia. Cuando su conducta irresponsable amenazó a los Asgardianos a entrar en otra guerra con los Gigantes de Hielo, fue despojado de su poder y desterrado en la Tierra por su padre, Odín. Mientras estaba exiliado, Thor aprendió sobre\n",
      "Herramienta usada: busqueda_internet\n",
      "----------------------------------------\n",
      "\n",
      "Respuesta: 1. Utiliza Flows que combinan Agentes y Copilots para mejorar el flujo de desarrollo del programador.\n",
      "2. Permite acceso al proyecto completo sin especificaciones detalladas, generando código mientras se entiende el contexto.\n",
      "3. Integra información sobre problemas detectados en el código y es compatible con linters.\n",
      "4. Consciente de las acciones en tiempo real del usuario para una experiencia más dinámica.\n",
      "5. Integra un lenguaje natural avanzado para un procesamiento avanzado.\n",
      "\n",
      "Fuentes:\n",
      "- Investigación de WindSurf.pdf\n",
      "- Investigación de WindSurf.pdf\n",
      "- Investigación de WindSurf.pdf\n",
      "Herramienta usada: busqueda_pdf\n",
      "----------------------------------------\n",
      "\n",
      "Respuesta: Sin resultados\n",
      "Herramienta usada: busqueda_internet\n",
      "----------------------------------------\n",
      "\n",
      "Respuesta: Sin resultados\n",
      "Herramienta usada: busqueda_internet\n",
      "----------------------------------------\n",
      "\n",
      "Respuesta: Sin resultados\n",
      "Herramienta usada: busqueda_internet\n",
      "----------------------------------------\n",
      "\n",
      "Respuesta: 1. Utiliza Flows que combinan Agentes y Copilots para mejorar el flujo de desarrollo del programador.\n",
      "2. Permite acceso al proyecto completo sin necesidad de especificaciones detalladas.\n",
      "3. Integra información sobre problemas detectados en el código y es compatible con linters.\n",
      "4. Consciente de las acciones en tiempo real del usuario, lo que permite una experiencia más dinámica.\n",
      "5. Integra un lenguaje natural avanzado para un procesamiento avanzado.\n",
      "\n",
      "Fuentes:\n",
      "- Investigación de WindSurf.pdf\n",
      "- Investigación de WindSurf.pdf\n",
      "- Investigación de WindSurf.pdf\n",
      "Herramienta usada: busqueda_pdf\n",
      "----------------------------------------\n",
      "Fin de la conversación.\n"
     ]
    }
   ],
   "source": [
    "# Celda 5: Chatbot interactivo\n",
    "print(\"Chatbot de LangGraph - escriba 'salir' para terminar.\")\n",
    "\n",
    "while True:\n",
    "    pregunta = input(\"Usuario: \")\n",
    "    \n",
    "    if pregunta.lower() in [\"salir\", \"exit\", \"quit\"]:\n",
    "        print(\"Fin de la conversación.\")\n",
    "        break\n",
    "    \n",
    "    entrada_agente = {\"input\": pregunta, \"tool_used\": \"none\", \"output\": \"\"}\n",
    "    resultado = agent_executor.invoke(entrada_agente)\n",
    "    \n",
    "    print(\"\\nRespuesta:\", resultado[\"output\"])\n",
    "    print(\"Herramienta usada:\", resultado[\"tool_used\"])\n",
    "    print(\"-\" * 40)\n",
    "   "
   ]
  }
 ],
 "metadata": {
  "kernelspec": {
   "display_name": "Python 3",
   "language": "python",
   "name": "python3"
  },
  "language_info": {
   "codemirror_mode": {
    "name": "ipython",
    "version": 3
   },
   "file_extension": ".py",
   "mimetype": "text/x-python",
   "name": "python",
   "nbconvert_exporter": "python",
   "pygments_lexer": "ipython3",
   "version": "3.13.2"
  }
 },
 "nbformat": 4,
 "nbformat_minor": 5
}
